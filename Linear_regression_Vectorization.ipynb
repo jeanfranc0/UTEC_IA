{
  "nbformat": 4,
  "nbformat_minor": 0,
  "metadata": {
    "colab": {
      "name": "Linear regression Vectorization.ipynb",
      "provenance": []
    },
    "kernelspec": {
      "name": "python3",
      "display_name": "Python 3"
    },
    "language_info": {
      "name": "python"
    },
    "accelerator": "GPU"
  },
  "cells": [
    {
      "cell_type": "code",
      "metadata": {
        "colab": {
          "base_uri": "https://localhost:8080/",
          "height": 299
        },
        "id": "SrQ-BHAnZ-t0",
        "outputId": "c520931a-269d-4e89-ba9a-a48a6d9007ae"
      },
      "source": [
        "import numpy as np\n",
        "import matplotlib.pyplot as plt\n",
        "d = 1\n",
        "x = np.random.uniform(-1, 1, size = (10000, 1))\n",
        "weights_true = np.array([[5],])\n",
        "bias_true = np.array([10])\n",
        "\n",
        "#y = ax + b\n",
        "y_true = x @ weights_true + bias_true\n",
        "print(f'x: {x.shape}, weights: {weights_true.shape}, bias: {bias_true.shape}, y: {y_true.shape}')\n",
        "plt.plot(x, y_true, '*', label='underlying function')\n",
        "plt.legend()"
      ],
      "execution_count": 46,
      "outputs": [
        {
          "output_type": "stream",
          "text": [
            "x: (10000, 1), weights: (1, 1), bias: (1,), y: (10000, 1)\n"
          ],
          "name": "stdout"
        },
        {
          "output_type": "execute_result",
          "data": {
            "text/plain": [
              "<matplotlib.legend.Legend at 0x7f40051a5a90>"
            ]
          },
          "metadata": {
            "tags": []
          },
          "execution_count": 46
        },
        {
          "output_type": "display_data",
          "data": {
            "image/png": "[encoded data removed]",
            "text/plain": [
              "<Figure size 432x288 with 1 Axes>"
            ]
          },
          "metadata": {
            "tags": [],
            "needs_background": "light"
          }
        }
      ]
    },
    {
      "cell_type": "code",
      "metadata": {
        "id": "_ZPxoaViFSUo",
        "colab": {
          "base_uri": "https://localhost:8080/",
          "height": 282
        },
        "outputId": "29decc48-7aac-4028-c1b6-c8c06a1ec2e0"
      },
      "source": [
        "class Linear:\n",
        "  def __init__(self, input_dim, num_hidden=1):\n",
        "    self.weights = np.random.randn(input_dim, num_hidden)\n",
        "    self.bias = np.random.randn(num_hidden)\n",
        "  \n",
        "  def __call__(self, x):\n",
        "    return x @ self.weights + self.bias\n",
        "\n",
        "linear = Linear(d)\n",
        "y_pred = linear(x) #linear.__call__(x)\n",
        "plt.plot(x, y_true, 'x', label='underlying function')\n",
        "plt.scatter(x, y_pred, c='r', label='our function')\n",
        "plt.legend()"
      ],
      "execution_count": 47,
      "outputs": [
        {
          "output_type": "execute_result",
          "data": {
            "text/plain": [
              "<matplotlib.legend.Legend at 0x7f4005222f50>"
            ]
          },
          "metadata": {
            "tags": []
          },
          "execution_count": 47
        },
        {
          "output_type": "display_data",
          "data": {
            "image/png": "[encoded data removed]",
            "text/plain": [
              "<Figure size 432x288 with 1 Axes>"
            ]
          },
          "metadata": {
            "tags": [],
            "needs_background": "light"
          }
        }
      ]
    },
    {
      "cell_type": "code",
      "metadata": {
        "colab": {
          "base_uri": "https://localhost:8080/"
        },
        "id": "c8hsmcJBGEpX",
        "outputId": "e8aeed30-dc59-4025-c232-b7457c42f808"
      },
      "source": [
        "class MSE:\n",
        "  def __call__(self, y_true, y_pred):\n",
        "    self.y_true = y_true\n",
        "    self.y_pred = y_pred\n",
        "    return ((y_true - y_pred) ** 2).mean()\n",
        "\n",
        "loss = MSE()\n",
        "print(f'Our initial loss is {loss(y_pred, y_true)}')"
      ],
      "execution_count": 48,
      "outputs": [
        {
          "output_type": "stream",
          "text": [
            "Our initial loss is 116.30307672073336\n"
          ],
          "name": "stdout"
        }
      ]
    },
    {
      "cell_type": "code",
      "metadata": {
        "id": "aVfvfUAyw2XI"
      },
      "source": [
        "class MSE:\n",
        "  def __call__(self, y_pred, y_true):\n",
        "    self.y_pred = y_pred\n",
        "    self.y_true = y_true\n",
        "    return ((y_pred - y_true) ** 2).mean()\n",
        "\n",
        "  def backward(self):\n",
        "    n = self.y_true.shape[0]\n",
        "    self.gradient = 2. * (self.y_pred - self.y_true) / n\n",
        "    return self.gradient\n",
        "\n",
        "class Linear:\n",
        "  def __init__(self, input_dim, num_hidden = 1):\n",
        "    self.weights = np.random.rand(input_dim, num_hidden)\n",
        "    self.bias = np.random.rand(num_hidden)\n",
        "  \n",
        "  def __call__(self, x):\n",
        "    self.x = x\n",
        "    output = x @ self.weights + self.bias\n",
        "    return output\n",
        "\n",
        "  def backward(self, gradient):\n",
        "    self.weights_gradient = self.x.T @ gradient\n",
        "    self.bias_gradient = gradient.sum(axis=0)\n",
        "\n",
        "  def update(self, lr):\n",
        "    self.weights = self.weights - lr * self.weights_gradient\n",
        "    self.bias = self.bias - lr * self.bias_gradient"
      ],
      "execution_count": 49,
      "outputs": []
    },
    {
      "cell_type": "code",
      "metadata": {
        "colab": {
          "base_uri": "https://localhost:8080/"
        },
        "id": "sOYNbeDaqjFh",
        "outputId": "148ec1a2-da42-4dd2-f62b-05753cad7f5e"
      },
      "source": [
        "loss = MSE()\n",
        "linear = Linear(d)\n",
        "y_pred = linear(x) # linear.__call__(x)\n",
        "print(loss(y_pred, y_true))\n",
        "loss_gradiente = loss.backward()\n",
        "linear.backward(loss_gradiente)\n",
        "linear.update(0.1)\n",
        "y_pred = linear(x)\n",
        "print(loss(y_pred, y_true))"
      ],
      "execution_count": 50,
      "outputs": [
        {
          "output_type": "stream",
          "text": [
            "91.26640544656709\n",
            "59.93032269431201\n"
          ],
          "name": "stdout"
        }
      ]
    },
    {
      "cell_type": "code",
      "metadata": {
        "id": "GYjjUr7e0qwa",
        "colab": {
          "base_uri": "https://localhost:8080/",
          "height": 401
        },
        "outputId": "86b1dbcd-cfef-4ba2-b6f1-09dd881a486c"
      },
      "source": [
        "plt.plot(x, y_true, 'x', label='underlying function')\n",
        "\n",
        "loss = MSE()\n",
        "linear = Linear(d)\n",
        "\n",
        "num_epochs = 40\n",
        "lr = 0.1\n",
        "\n",
        "for epoch in range(num_epochs):\n",
        "  y_pred = linear(x)\n",
        "  loss_value = loss(y_pred, y_true)\n",
        "\n",
        "  if epoch % 5 == 0:\n",
        "    print(f'Epoch {epoch}, loss {loss_value}')\n",
        "    plt.plot(x, y_pred, '.', label=f'Epoch {epoch}')\n",
        "\n",
        "  gradient_from_loss = loss.backward()\n",
        "  linear.backward(gradient_from_loss)\n",
        "  linear.update(lr)\n",
        "\n",
        "plt.legend(bbox_to_anchor=(1.04, 1), loc=\"upper left\");"
      ],
      "execution_count": 51,
      "outputs": [
        {
          "output_type": "stream",
          "text": [
            "Epoch 0, loss 98.73123024397097\n",
            "Epoch 5, loss 12.936266626051184\n",
            "Epoch 10, loss 2.5569577035943825\n",
            "Epoch 15, loss 0.8587011700277406\n",
            "Epoch 20, loss 0.38436636607199787\n",
            "Epoch 25, loss 0.18739739684954448\n",
            "Epoch 30, loss 0.09320699373167766\n",
            "Epoch 35, loss 0.046561784249609925\n"
          ],
          "name": "stdout"
        },
        {
          "output_type": "display_data",
          "data": {
            "image/png": "[encoded data removed]",
            "text/plain": [
              "<Figure size 432x288 with 1 Axes>"
            ]
          },
          "metadata": {
            "tags": [],
            "needs_background": "light"
          }
        }
      ]
    }
  ]
}